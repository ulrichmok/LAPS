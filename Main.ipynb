{
 "cells": [
  {
   "cell_type": "code",
   "execution_count": 1,
   "id": "169c6fbf-78a9-435d-9f32-5bf28a61cdd6",
   "metadata": {},
   "outputs": [],
   "source": [
    "## LAPS project data convertion, storage, and plotting based on the .json schema file\n",
    "# Ekaterina Bolotskaya\n",
    "# 07/17/2023\n",
    "\n",
    "# ----------------------------------------------------------------------\n",
    "## Import modules\n",
    "# ----------------------------------------------------------------------\n",
    "import os\n",
    "import json\n",
    "import h5py\n",
    "import numpy as np"
   ]
  },
  {
   "cell_type": "code",
   "execution_count": 2,
   "id": "e513b1e1-4e60-4d65-930c-a1ca9486c19e",
   "metadata": {},
   "outputs": [],
   "source": [
    "# ----------------------------------------------------------------------\n",
    "## Import functions\n",
    "# ----------------------------------------------------------------------\n",
    "from LAPS_1_empty_dir_create_update import *\n",
    "from LAPS_2_HDF5_from_directory import *\n",
    "from LAPS_3_create_directory_from_HDF5 import *\n",
    "from LAPS_4_interactively_plot_timeseries import *"
   ]
  },
  {
   "cell_type": "code",
   "execution_count": 3,
   "id": "b51fecfa-69c5-499b-b467-656cdb00a56f",
   "metadata": {},
   "outputs": [
    {
     "name": "stdout",
     "output_type": "stream",
     "text": [
      "Empty directory created successfully. Please populate it with data for further processing.\n",
      "C:\\Users\\kathe\\Dropbox (MIT)\\Machine Learning with ERIC-BEN\\LabDataWorkflow\\1_LAPS_processing_EB\\2_dir_to_HDF5_to_dir_v2\\Test_input_output_data\\Paterson_Carrara_Test\n"
     ]
    }
   ],
   "source": [
    "# ----------------------------------------------------------------------\n",
    "## Create the initial directory structure based on the JSON schema\n",
    "# ----------------------------------------------------------------------\n",
    "## Define paths (platform independent) \n",
    "cwd = os.getcwd()                                    # get the current working directory\n",
    "schema_path = os.path.join(cwd, 'Test_input_output_data', 'Paterson5_CarraraTest.json')             # original .json schema\n",
    "empty_dir = os.path.join(cwd, 'Test_input_output_data','Paterson_Carrara_Test')                             # empty directory name\n",
    "\n",
    "## Call the function to create the initial directory structure based on the JSON schema\n",
    "LAPS_1_empty_dir_create_update(schema_path, empty_dir, json, os)"
   ]
  },
  {
   "cell_type": "code",
   "execution_count": 4,
   "id": "95c13b92-2bb9-4551-ace6-40e5b989c7d9",
   "metadata": {},
   "outputs": [
    {
     "name": "stdout",
     "output_type": "stream",
     "text": [
      "HDF5 created successfully.\n",
      "C:\\Users\\kathe\\Dropbox (MIT)\\Machine Learning with ERIC-BEN\\LabDataWorkflow\\1_LAPS_processing_EB\\2_dir_to_HDF5_to_dir_v2\\Test_input_output_data\\Paterson_Carrara_Test_HDF5_data.h5\n"
     ]
    }
   ],
   "source": [
    "# ----------------------------------------------------------------------\n",
    "## Convert the populated directory structure into an HDF5 file\n",
    "# ----------------------------------------------------------------------\n",
    "## Define paths (platform independent) \n",
    "cwd = os.getcwd()  \n",
    "popul_dir = os.path.join(cwd, 'Test_input_output_data','Paterson_Carrara_Test_2')                       # populated directory name (for HDF5 conversion)\n",
    "hdf5_file = os.path.join(cwd, 'Test_input_output_data','Paterson_Carrara_Test_HDF5_data.h5')                # output HDF5 file path\n",
    "\n",
    "## Call the function to convert the populated directory structure into an HDF5 file\n",
    "LAPS_2_HDF5_from_directory(schema_path, popul_dir, hdf5_file, json, os, np, h5py)"
   ]
  },
  {
   "cell_type": "code",
   "execution_count": 5,
   "id": "00c1ead0-7259-4dd5-9f59-7152a4332ecf",
   "metadata": {},
   "outputs": [
    {
     "name": "stdout",
     "output_type": "stream",
     "text": [
      "Directory recreated successfully.\n",
      "C:\\Users\\kathe\\Dropbox (MIT)\\Machine Learning with ERIC-BEN\\LabDataWorkflow\\1_LAPS_processing_EB\\2_dir_to_HDF5_to_dir_v2\\Test_input_output_data\\Recreated_Paterson_Carrara_Test_2\n"
     ]
    }
   ],
   "source": [
    "# ----------------------------------------------------------------------\n",
    "## Reproduce the original directory structure from the HDF5 file\n",
    "# ----------------------------------------------------------------------\n",
    "\"\"\" \n",
    "Do not save the HDF5 into the directory containing the data. This will lead to recursive \n",
    "reproduction of the HDF5 every time you run the function\n",
    "\"\"\"\n",
    "## Define paths (platform independent) \n",
    "cwd = os.getcwd()  \n",
    "output_dir = os.path.join(cwd, 'Test_input_output_data','Recreated_Paterson_Carrara_Test_2')          # recreated directory name\n",
    "recr_scdir = os.path.join(cwd, 'Test_input_output_data','Recreated_Paterson5_CarraraTest.json')     # recreated .json schema\n",
    "\n",
    "## Call the function to reproduce the original directory structure from the HDF5 file and the original schema\n",
    "LAPS_3_create_directory_from_HDF5(hdf5_file, output_dir, recr_scdir, json, os, np, h5py)"
   ]
  },
  {
   "cell_type": "code",
   "execution_count": 6,
   "id": "1ef20212-f2b6-4294-8378-751d4a32555f",
   "metadata": {},
   "outputs": [
    {
     "name": "stdout",
     "output_type": "stream",
     "text": [
      "Project: Yield Point Study Carrara\n",
      "Apparatus: Paterson Rig #5\n",
      "No sample name\n",
      "Datasets:\n",
      "    Time_Series\n",
      "       Time Relative Differential  ,  hour\n",
      "       Time Relative Differential  ,  sec\n",
      "       Load Axial Internal  ,  KN\n",
      "       Displacement Axial External High Gain (Fine) ,  mm\n",
      "       Displacement Axial External Low Gain (Coarse) ,  mm\n",
      "       Displacement Volumetric Pore Volume  ,  mm\n",
      "       Pressure Pore Upstream  ,  MPa\n",
      "       Pressure Pore Downstream  ,  bar\n",
      "       Load Axial External  ,  KN\n",
      "       Pressure Confining Vessel  ,  MPa\n",
      "       Temperature Sample Average  ,  deg C\n",
      "    Parameters\n",
      "      No headers\n",
      "    Imaging\n",
      "      No headers\n",
      "    Thin_Section\n",
      "      No headers\n",
      "    EBSD\n",
      "      No headers\n"
     ]
    },
    {
     "data": {
      "application/vnd.jupyter.widget-view+json": {
       "model_id": "22122de074264e21b9687b267e02ba4b",
       "version_major": 2,
       "version_minor": 0
      },
      "text/plain": [
       "VBox(children=(Dropdown(description='X-axis:', layout=Layout(width='auto'), options=('Time Relative Differenti…"
      ]
     },
     "metadata": {},
     "output_type": "display_data"
    }
   ],
   "source": [
    "# ----------------------------------------------------------------------\n",
    "## Interactively plot time series data\n",
    "# ----------------------------------------------------------------------\n",
    "## Define paths (platform independent) \n",
    "cwd = os.getcwd()  \n",
    "# Path to time-series to plot\n",
    "ts_dir = os.path.normpath(os.path.join(cwd, 'Test_input_output_data\\Paterson_Carrara_Test_2\\data\\datasets\\Time_Series_1\\Paterson#5_ExampleData.txt'))\n",
    "\n",
    "## Call the function to interactively plot time series data from the recreated directory\n",
    "LAPS_4_interactively_plot_timeseries(recr_scdir, ts_dir, json, os, np)"
   ]
  },
  {
   "cell_type": "code",
   "execution_count": null,
   "id": "589f6beb-6ee2-497a-af03-27259d334672",
   "metadata": {},
   "outputs": [],
   "source": []
  },
  {
   "cell_type": "code",
   "execution_count": null,
   "id": "fe7ae3ce-0685-4085-9f3c-ea659b1beeb7",
   "metadata": {},
   "outputs": [],
   "source": []
  }
 ],
 "metadata": {
  "kernelspec": {
   "display_name": "Python 3 (ipykernel)",
   "language": "python",
   "name": "python3"
  },
  "language_info": {
   "codemirror_mode": {
    "name": "ipython",
    "version": 3
   },
   "file_extension": ".py",
   "mimetype": "text/x-python",
   "name": "python",
   "nbconvert_exporter": "python",
   "pygments_lexer": "ipython3",
   "version": "3.10.9"
  }
 },
 "nbformat": 4,
 "nbformat_minor": 5
}
